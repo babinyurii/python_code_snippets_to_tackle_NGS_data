{
 "cells": [
  {
   "cell_type": "code",
   "execution_count": 5,
   "metadata": {},
   "outputs": [],
   "source": [
    "from Bio import SeqIO\n",
    "from Bio.Blast import NCBIWWW\n",
    "from Bio.Blast import NCBIXML\n"
   ]
  },
  {
   "cell_type": "code",
   "execution_count": 6,
   "metadata": {},
   "outputs": [],
   "source": [
    "import time"
   ]
  },
  {
   "cell_type": "code",
   "execution_count": 7,
   "metadata": {},
   "outputs": [],
   "source": [
    "fasta_to_blast = SeqIO.parse(\"test_for_blast.fasta\", \"fasta\")"
   ]
  },
  {
   "cell_type": "code",
   "execution_count": 8,
   "metadata": {},
   "outputs": [
    {
     "name": "stdout",
     "output_type": "stream",
     "text": [
      "KR024780.1 blast query was finished in: 6.86 sec\n",
      "KR024779.1 blast query was finished in: 14.13 sec\n",
      "KR024777.1 blast query was finished in: 21.38 sec\n"
     ]
    }
   ],
   "source": [
    "with open(\"test_blast_results.txt\", \"w\") as f_obj:\n",
    "    start = time.time()\n",
    "    for rec in fasta_to_blast:\n",
    "        f_obj.write(\"################___\" + rec.id + \"______################\\n\")\n",
    "        \n",
    "        result_handle = NCBIWWW.qblast(\"blastn\", \"nt\",  rec.seq, hitlist_size=2) # play with parameters, look at the docs\n",
    "        blast_record = NCBIXML.read(result_handle)\n",
    "        e_thresh = 0.05\n",
    "        \n",
    "        for alignt in  blast_record.alignments:\n",
    "            for hsp in alignt.hsps:\n",
    "                if hsp.expect < e_thresh:\n",
    "                    f_obj.write(\"******alignment********\\n\")\n",
    "                    f_obj.write(\"sequence: \" + alignt.title + \"\\n\")\n",
    "                    f_obj.write(\"length \" + str(alignt.length) + \"\\n\")\n",
    "                    f_obj.write(\"e value: \" + str(hsp.expect) + \"\\n\")\n",
    "                    #f_obj.write(hsp.query[0:75] + \"...\" + \"\\n\")\n",
    "                    #f_obj.write(hsp.match[0:75] + \"...\" + \"\\n\")\n",
    "                    #f_obj.write(hsp.sbjct[0:75] + \"...\" + \"\\n\")\n",
    "        end = time.time()\n",
    "        print(rec.id + \" blast query was finished in: \" + str(round((end - start), 2)) + \" sec\")"
   ]
  },
  {
   "cell_type": "code",
   "execution_count": 9,
   "metadata": {},
   "outputs": [],
   "source": [
    "f = open(\"test_blast_results.txt\")"
   ]
  },
  {
   "cell_type": "code",
   "execution_count": 11,
   "metadata": {},
   "outputs": [
    {
     "name": "stdout",
     "output_type": "stream",
     "text": [
      "################___KR024780.1______################\n",
      "\n",
      "******alignment********\n",
      "\n",
      "sequence: gi|1334609334|gb|KY595106.1| Lumpy skin disease virus strain RNOA-15 G-protein-coupled chemokine receptor (GPCR) gene, complete cds\n",
      "\n",
      "length 1134\n",
      "\n",
      "e value: 5.22341e-21\n",
      "\n",
      "******alignment********\n",
      "\n",
      "sequence: gi|1279514918|gb|KY829023.3| Lumpy skin disease virus isolate Evros/GR/15, complete genome\n",
      "\n",
      "length 150681\n",
      "\n",
      "e value: 5.22341e-21\n",
      "\n",
      "################___KR024779.1______################\n",
      "\n",
      "******alignment********\n",
      "\n",
      "sequence: gi|1384591000|gb|MF156212.1| Lumpy skin disease virus strain LSDV_Egypt_VRLCU-2_2014 G-protein-coupled chemokine receptor (GCPR) gene, complete cds\n",
      "\n",
      "length 1134\n",
      "\n",
      "e value: 5.22341e-21\n",
      "\n",
      "******alignment********\n",
      "\n",
      "sequence: gi|1384590998|gb|MF156211.1| Lumpy skin disease virus strain LSDV_Egypt_VRLCU_2014 G-protein-coupled chemokine receptor (GCPR) gene, complete cds\n",
      "\n",
      "length 1134\n",
      "\n",
      "e value: 5.22341e-21\n",
      "\n",
      "################___KR024777.1______################\n",
      "\n",
      "******alignment********\n",
      "\n",
      "sequence: gi|1334609334|gb|KY595106.1| Lumpy skin disease virus strain RNOA-15 G-protein-coupled chemokine receptor (GPCR) gene, complete cds\n",
      "\n",
      "length 1134\n",
      "\n",
      "e value: 5.22341e-21\n",
      "\n",
      "******alignment********\n",
      "\n",
      "sequence: gi|1279514918|gb|KY829023.3| Lumpy skin disease virus isolate Evros/GR/15, complete genome\n",
      "\n",
      "length 150681\n",
      "\n",
      "e value: 5.22341e-21\n",
      "\n"
     ]
    }
   ],
   "source": [
    "for line in f:\n",
    "    print(line)"
   ]
  },
  {
   "cell_type": "code",
   "execution_count": null,
   "metadata": {},
   "outputs": [],
   "source": []
  },
  {
   "cell_type": "code",
   "execution_count": null,
   "metadata": {},
   "outputs": [],
   "source": []
  },
  {
   "cell_type": "code",
   "execution_count": null,
   "metadata": {},
   "outputs": [],
   "source": []
  },
  {
   "cell_type": "code",
   "execution_count": null,
   "metadata": {},
   "outputs": [],
   "source": []
  },
  {
   "cell_type": "code",
   "execution_count": null,
   "metadata": {},
   "outputs": [],
   "source": []
  },
  {
   "cell_type": "code",
   "execution_count": null,
   "metadata": {},
   "outputs": [],
   "source": []
  },
  {
   "cell_type": "code",
   "execution_count": null,
   "metadata": {},
   "outputs": [],
   "source": []
  },
  {
   "cell_type": "code",
   "execution_count": null,
   "metadata": {},
   "outputs": [],
   "source": []
  },
  {
   "cell_type": "code",
   "execution_count": null,
   "metadata": {},
   "outputs": [],
   "source": []
  },
  {
   "cell_type": "code",
   "execution_count": null,
   "metadata": {},
   "outputs": [],
   "source": []
  },
  {
   "cell_type": "code",
   "execution_count": null,
   "metadata": {},
   "outputs": [],
   "source": []
  },
  {
   "cell_type": "code",
   "execution_count": null,
   "metadata": {},
   "outputs": [],
   "source": []
  },
  {
   "cell_type": "code",
   "execution_count": null,
   "metadata": {},
   "outputs": [],
   "source": []
  },
  {
   "cell_type": "code",
   "execution_count": null,
   "metadata": {},
   "outputs": [],
   "source": []
  },
  {
   "cell_type": "code",
   "execution_count": null,
   "metadata": {},
   "outputs": [],
   "source": []
  },
  {
   "cell_type": "code",
   "execution_count": null,
   "metadata": {},
   "outputs": [],
   "source": []
  },
  {
   "cell_type": "code",
   "execution_count": null,
   "metadata": {},
   "outputs": [],
   "source": []
  },
  {
   "cell_type": "code",
   "execution_count": null,
   "metadata": {},
   "outputs": [],
   "source": []
  },
  {
   "cell_type": "code",
   "execution_count": null,
   "metadata": {},
   "outputs": [],
   "source": []
  },
  {
   "cell_type": "code",
   "execution_count": null,
   "metadata": {},
   "outputs": [],
   "source": []
  },
  {
   "cell_type": "code",
   "execution_count": null,
   "metadata": {},
   "outputs": [],
   "source": []
  },
  {
   "cell_type": "code",
   "execution_count": null,
   "metadata": {},
   "outputs": [],
   "source": []
  },
  {
   "cell_type": "code",
   "execution_count": null,
   "metadata": {},
   "outputs": [],
   "source": []
  },
  {
   "cell_type": "code",
   "execution_count": null,
   "metadata": {},
   "outputs": [],
   "source": []
  },
  {
   "cell_type": "code",
   "execution_count": null,
   "metadata": {},
   "outputs": [],
   "source": []
  }
 ],
 "metadata": {
  "kernelspec": {
   "display_name": "Python 3",
   "language": "python",
   "name": "python3"
  },
  "language_info": {
   "codemirror_mode": {
    "name": "ipython",
    "version": 3
   },
   "file_extension": ".py",
   "mimetype": "text/x-python",
   "name": "python",
   "nbconvert_exporter": "python",
   "pygments_lexer": "ipython3",
   "version": "3.6.5"
  }
 },
 "nbformat": 4,
 "nbformat_minor": 2
}
