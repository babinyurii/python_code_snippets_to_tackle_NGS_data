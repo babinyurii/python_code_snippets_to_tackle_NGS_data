{
 "cells": [
  {
   "cell_type": "markdown",
   "metadata": {},
   "source": [
    "**cleaner pattern for fetching sequences from nucleotide ncbi database**"
   ]
  },
  {
   "cell_type": "code",
   "execution_count": 12,
   "metadata": {},
   "outputs": [],
   "source": [
    "from Bio import Entrez\n",
    "from Bio import SeqIO\n",
    "from time import sleep"
   ]
  },
  {
   "cell_type": "code",
   "execution_count": 13,
   "metadata": {},
   "outputs": [],
   "source": [
    "Entrez.email = \"babin.yurii@gmail.com\""
   ]
  },
  {
   "cell_type": "code",
   "execution_count": 14,
   "metadata": {},
   "outputs": [],
   "source": [
    "handle = Entrez.esearch(db=\"nucleotide\", \n",
    "                        term=\"hbv complete genome\", retmax=10)\n",
    "record = Entrez.read(handle)"
   ]
  },
  {
   "cell_type": "code",
   "execution_count": 15,
   "metadata": {},
   "outputs": [],
   "source": [
    "ids = record[\"IdList\"]"
   ]
  },
  {
   "cell_type": "markdown",
   "metadata": {},
   "source": [
    "- here we fetch the summary by id\n",
    "- if 'complete' is in summary title, we take this id\n",
    "\n",
    "NOTE: it's better to sort record when esearch(). try to do it. explore the returned data"
   ]
  },
  {
   "cell_type": "code",
   "execution_count": 16,
   "metadata": {},
   "outputs": [
    {
     "name": "stdout",
     "output_type": "stream",
     "text": [
      "576583543\n",
      "576583538\n",
      "576583533\n",
      "576583529\n",
      "194394229\n",
      "71772414\n",
      "71772358\n",
      "1405457090\n",
      "Hepatitis B virus HB17-0791 DNA, complete genome\n",
      "1399030497\n",
      "Hepatitis B virus isolate B127W, complete genome\n",
      "1399030489\n",
      "Hepatitis B virus isolate B106W, complete genome\n",
      "human HBV are: 3\n"
     ]
    }
   ],
   "source": [
    "complete_ids = []\n",
    "count = 0\n",
    "for i in ids[:]:\n",
    "    print(i)\n",
    "    sleep(0.5)\n",
    "    inf = Entrez.esummary(db=\"nucleotide\", id=i)\n",
    "    inf_record = Entrez.read(inf)\n",
    "    if \"complete\" in inf_record[0][\"Title\"]:\n",
    "        count += 1\n",
    "        complete_ids.append(i)\n",
    "        print(inf_record[0][\"Title\"])\n",
    "    \n",
    "print(\"human HBV are: %i\" % count)"
   ]
  },
  {
   "cell_type": "markdown",
   "metadata": {},
   "source": [
    "- fetching sequences by id and writing into .gb "
   ]
  },
  {
   "cell_type": "code",
   "execution_count": 17,
   "metadata": {
    "scrolled": true
   },
   "outputs": [],
   "source": [
    "\n",
    "with open(\"test_deleteit.txt\", \"a\") as f_obj:\n",
    "    \n",
    "    for i in complete_ids[:]:\n",
    "        \n",
    "        sleep(0.35)\n",
    "        \n",
    "        handle = Entrez.efetch(db=\"nucleotide\", id=i, \n",
    "                               rettype=\"gb\", retmode=\"text\")\n",
    "        \n",
    "        handle_parsed = SeqIO.parse(handle, \"genbank\")\n",
    "\n",
    "        #SeqIO.write(handle, \"fetched_gbs.txt\", \"genbank\")\n",
    "        fetched = handle.read()\n",
    "        f_obj.write(fetched)\n",
    "        \n",
    "        "
   ]
  },
  {
   "cell_type": "markdown",
   "metadata": {},
   "source": [
    "- sorting sequences by host \n",
    "- if host is \"Homo sapiens\" write it into .fasta"
   ]
  },
  {
   "cell_type": "code",
   "execution_count": 18,
   "metadata": {},
   "outputs": [],
   "source": [
    "count = 0\n",
    "with open(\"test_deleteit.txt\", \"r\") as input_handle:\n",
    "    \n",
    "    with open(\"test_deleteit_1.fasta\", \"a\") as output_handle:\n",
    "       \n",
    "        seqs = SeqIO.parse(input_handle, \"genbank\")\n",
    "        \n",
    "        for seq in seqs:\n",
    "            \n",
    "            feat_0 = seq.features[0]\n",
    "            try:\n",
    "                print(feat_0.qualifiers[\"host\"])\n",
    "                if feat_0.qualifiers[\"host\"] == [\"Homo sapiens\"]:\n",
    "                    print(\"it's homo\")\n",
    "                    print(seq.id)\n",
    "                    print(feat_0.qualifiers[\"note\"][0])\n",
    "                    seq.id += \"__\" + feat_0.qualifiers[\"note\"][0] + \"__\"\n",
    "                    print(seq.id)\n",
    "                    SeqIO.write(seq, output_handle, \"fasta\")\n",
    "                    count += 1\n",
    "            except:\n",
    "                print(\"perhaps no host\")\n",
    "                "
   ]
  },
  {
   "cell_type": "code",
   "execution_count": null,
   "metadata": {},
   "outputs": [],
   "source": []
  },
  {
   "cell_type": "code",
   "execution_count": null,
   "metadata": {},
   "outputs": [],
   "source": []
  }
 ],
 "metadata": {
  "kernelspec": {
   "display_name": "Python 3",
   "language": "python",
   "name": "python3"
  },
  "language_info": {
   "codemirror_mode": {
    "name": "ipython",
    "version": 3
   },
   "file_extension": ".py",
   "mimetype": "text/x-python",
   "name": "python",
   "nbconvert_exporter": "python",
   "pygments_lexer": "ipython3",
   "version": "3.6.5"
  }
 },
 "nbformat": 4,
 "nbformat_minor": 2
}
